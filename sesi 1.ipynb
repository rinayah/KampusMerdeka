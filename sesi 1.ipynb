{
 "cells": [
  {
   "cell_type": "code",
   "execution_count": 2,
   "id": "9b3e28d0",
   "metadata": {},
   "outputs": [
    {
     "ename": "SyntaxError",
     "evalue": "invalid syntax (1615379451.py, line 1)",
     "output_type": "error",
     "traceback": [
      "\u001b[1;36m  File \u001b[1;32m\"C:\\Users\\inayah\\AppData\\Local\\Temp\\ipykernel_2812\\1615379451.py\"\u001b[1;36m, line \u001b[1;32m1\u001b[0m\n\u001b[1;33m    print(12312132132132, sep=)\u001b[0m\n\u001b[1;37m                              ^\u001b[0m\n\u001b[1;31mSyntaxError\u001b[0m\u001b[1;31m:\u001b[0m invalid syntax\n"
     ]
    }
   ],
   "source": [
    "print(12312132132132, sep=)"
   ]
  },
  {
   "cell_type": "code",
   "execution_count": null,
   "id": "ec18fc00",
   "metadata": {},
   "outputs": [],
   "source": [
    "\"a \" + 5"
   ]
  },
  {
   "cell_type": "code",
   "execution_count": 3,
   "id": "af3f5a4d",
   "metadata": {},
   "outputs": [
    {
     "data": {
      "text/plain": [
       "12321321321321123"
      ]
     },
     "execution_count": 3,
     "metadata": {},
     "output_type": "execute_result"
    }
   ],
   "source": [
    "12321321321321123"
   ]
  },
  {
   "cell_type": "code",
   "execution_count": 4,
   "id": "2ae74a03",
   "metadata": {},
   "outputs": [
    {
     "name": "stdout",
     "output_type": "stream",
     "text": [
      "hello\n"
     ]
    }
   ],
   "source": [
    "print(\"hello\")"
   ]
  },
  {
   "cell_type": "markdown",
   "id": "001c9c60",
   "metadata": {},
   "source": [
    " ## Ini buat catatan\n",
    "\n",
    "Tipe data python\n",
    "\n",
    "- integer: angka bulat\n",
    "- floats: angka desimal\n",
    "- string: kumpulan karakter\n",
    "- boolean: true / false\n",
    "- list: array (kumpulan dari data)"
   ]
  },
  {
   "cell_type": "markdown",
   "id": "cc43f038",
   "metadata": {},
   "source": [
    "## integers"
   ]
  },
  {
   "cell_type": "code",
   "execution_count": 5,
   "id": "39fca41f",
   "metadata": {},
   "outputs": [
    {
     "data": {
      "text/plain": [
       "1"
      ]
     },
     "execution_count": 5,
     "metadata": {},
     "output_type": "execute_result"
    }
   ],
   "source": [
    "1"
   ]
  },
  {
   "cell_type": "code",
   "execution_count": 6,
   "id": "e1b18ab4",
   "metadata": {},
   "outputs": [
    {
     "data": {
      "text/plain": [
       "int"
      ]
     },
     "execution_count": 6,
     "metadata": {},
     "output_type": "execute_result"
    }
   ],
   "source": [
    "type(1)"
   ]
  },
  {
   "cell_type": "code",
   "execution_count": 7,
   "id": "b212a053",
   "metadata": {},
   "outputs": [
    {
     "name": "stdout",
     "output_type": "stream",
     "text": [
      "<class 'int'>\n"
     ]
    }
   ],
   "source": [
    "print(type(1))"
   ]
  },
  {
   "cell_type": "markdown",
   "id": "df571139",
   "metadata": {},
   "source": [
    "## floats"
   ]
  },
  {
   "cell_type": "code",
   "execution_count": 8,
   "id": "a8545e82",
   "metadata": {},
   "outputs": [
    {
     "data": {
      "text/plain": [
       "10.5"
      ]
     },
     "execution_count": 8,
     "metadata": {},
     "output_type": "execute_result"
    }
   ],
   "source": [
    "10.5"
   ]
  },
  {
   "cell_type": "code",
   "execution_count": 9,
   "id": "190d9cae",
   "metadata": {},
   "outputs": [
    {
     "data": {
      "text/plain": [
       "float"
      ]
     },
     "execution_count": 9,
     "metadata": {},
     "output_type": "execute_result"
    }
   ],
   "source": [
    "type(10.5)"
   ]
  },
  {
   "cell_type": "code",
   "execution_count": 10,
   "id": "a7f125d3",
   "metadata": {},
   "outputs": [
    {
     "data": {
      "text/plain": [
       "float"
      ]
     },
     "execution_count": 10,
     "metadata": {},
     "output_type": "execute_result"
    }
   ],
   "source": [
    "15.8\n",
    "type(15.8)"
   ]
  },
  {
   "cell_type": "code",
   "execution_count": 11,
   "id": "b490d208",
   "metadata": {},
   "outputs": [
    {
     "name": "stdout",
     "output_type": "stream",
     "text": [
      "15.8\n",
      "<class 'float'>\n"
     ]
    }
   ],
   "source": [
    "print(15.8)\n",
    "print(type(15.8))"
   ]
  },
  {
   "cell_type": "code",
   "execution_count": 12,
   "id": "432c0011",
   "metadata": {},
   "outputs": [
    {
     "data": {
      "text/plain": [
       "True"
      ]
     },
     "execution_count": 12,
     "metadata": {},
     "output_type": "execute_result"
    }
   ],
   "source": [
    "0.2 == .2"
   ]
  },
  {
   "cell_type": "code",
   "execution_count": 13,
   "id": "fa8966a5",
   "metadata": {},
   "outputs": [
    {
     "data": {
      "text/plain": [
       "0.5555"
      ]
     },
     "execution_count": 13,
     "metadata": {},
     "output_type": "execute_result"
    }
   ],
   "source": [
    "0.555\n",
    ".5555"
   ]
  },
  {
   "cell_type": "code",
   "execution_count": 14,
   "id": "6cba2ee0",
   "metadata": {},
   "outputs": [
    {
     "data": {
      "text/plain": [
       "0.05"
      ]
     },
     "execution_count": 14,
     "metadata": {},
     "output_type": "execute_result"
    }
   ],
   "source": [
    "5e-2"
   ]
  },
  {
   "cell_type": "markdown",
   "id": "d5bd2876",
   "metadata": {},
   "source": [
    "## STRING"
   ]
  },
  {
   "cell_type": "code",
   "execution_count": 15,
   "id": "78fb4328",
   "metadata": {},
   "outputs": [
    {
     "ename": "NameError",
     "evalue": "name 'k' is not defined",
     "output_type": "error",
     "traceback": [
      "\u001b[1;31m---------------------------------------------------------------------------\u001b[0m",
      "\u001b[1;31mNameError\u001b[0m                                 Traceback (most recent call last)",
      "\u001b[1;32m~\\AppData\\Local\\Temp\\ipykernel_2812\\3760656076.py\u001b[0m in \u001b[0;36m<module>\u001b[1;34m\u001b[0m\n\u001b[1;32m----> 1\u001b[1;33m \u001b[0mk\u001b[0m\u001b[1;33m\u001b[0m\u001b[1;33m\u001b[0m\u001b[0m\n\u001b[0m",
      "\u001b[1;31mNameError\u001b[0m: name 'k' is not defined"
     ]
    }
   ],
   "source": [
    "k"
   ]
  },
  {
   "cell_type": "code",
   "execution_count": 16,
   "id": "73575936",
   "metadata": {},
   "outputs": [
    {
     "data": {
      "text/plain": [
       "'kasur'"
      ]
     },
     "execution_count": 16,
     "metadata": {},
     "output_type": "execute_result"
    }
   ],
   "source": [
    "\"kasur\""
   ]
  },
  {
   "cell_type": "code",
   "execution_count": 17,
   "id": "6463ab42",
   "metadata": {},
   "outputs": [
    {
     "data": {
      "text/plain": [
       "'hello'"
      ]
     },
     "execution_count": 17,
     "metadata": {},
     "output_type": "execute_result"
    }
   ],
   "source": [
    "'hello'"
   ]
  },
  {
   "cell_type": "code",
   "execution_count": 18,
   "id": "28a2d3e6",
   "metadata": {},
   "outputs": [
    {
     "data": {
      "text/plain": [
       "\"I'm going to the movies\""
      ]
     },
     "execution_count": 18,
     "metadata": {},
     "output_type": "execute_result"
    }
   ],
   "source": [
    "\"I'm going to the movies\""
   ]
  },
  {
   "cell_type": "code",
   "execution_count": 20,
   "id": "ace7e615",
   "metadata": {},
   "outputs": [
    {
     "data": {
      "text/plain": [
       "'Im going to the movies'"
      ]
     },
     "execution_count": 20,
     "metadata": {},
     "output_type": "execute_result"
    }
   ],
   "source": [
    "'Im going to the movies'"
   ]
  },
  {
   "cell_type": "code",
   "execution_count": 21,
   "id": "7840d239",
   "metadata": {},
   "outputs": [
    {
     "data": {
      "text/plain": [
       "str"
      ]
     },
     "execution_count": 21,
     "metadata": {},
     "output_type": "execute_result"
    }
   ],
   "source": [
    "type(\"hello world\")"
   ]
  },
  {
   "cell_type": "code",
   "execution_count": 22,
   "id": "db81d992",
   "metadata": {},
   "outputs": [
    {
     "name": "stdout",
     "output_type": "stream",
     "text": [
      "<class 'str'>\n"
     ]
    }
   ],
   "source": [
    "print(type(\"hello world\"))"
   ]
  },
  {
   "cell_type": "markdown",
   "id": "6f332b2a",
   "metadata": {},
   "source": [
    "## BOOLEAN"
   ]
  },
  {
   "cell_type": "code",
   "execution_count": 23,
   "id": "ec36911d",
   "metadata": {},
   "outputs": [
    {
     "data": {
      "text/plain": [
       "True"
      ]
     },
     "execution_count": 23,
     "metadata": {},
     "output_type": "execute_result"
    }
   ],
   "source": [
    "True"
   ]
  },
  {
   "cell_type": "code",
   "execution_count": 24,
   "id": "80e42ec0",
   "metadata": {},
   "outputs": [
    {
     "data": {
      "text/plain": [
       "False"
      ]
     },
     "execution_count": 24,
     "metadata": {},
     "output_type": "execute_result"
    }
   ],
   "source": [
    "False"
   ]
  },
  {
   "cell_type": "code",
   "execution_count": 25,
   "id": "f5454a5b",
   "metadata": {},
   "outputs": [
    {
     "data": {
      "text/plain": [
       "bool"
      ]
     },
     "execution_count": 25,
     "metadata": {},
     "output_type": "execute_result"
    }
   ],
   "source": [
    "type(True)"
   ]
  },
  {
   "cell_type": "code",
   "execution_count": 26,
   "id": "7a5e6d5c",
   "metadata": {},
   "outputs": [
    {
     "ename": "NameError",
     "evalue": "name 'true' is not defined",
     "output_type": "error",
     "traceback": [
      "\u001b[1;31m---------------------------------------------------------------------------\u001b[0m",
      "\u001b[1;31mNameError\u001b[0m                                 Traceback (most recent call last)",
      "\u001b[1;32m~\\AppData\\Local\\Temp\\ipykernel_2812\\592217714.py\u001b[0m in \u001b[0;36m<module>\u001b[1;34m\u001b[0m\n\u001b[1;32m----> 1\u001b[1;33m \u001b[0mtrue\u001b[0m\u001b[1;33m\u001b[0m\u001b[1;33m\u001b[0m\u001b[0m\n\u001b[0m",
      "\u001b[1;31mNameError\u001b[0m: name 'true' is not defined"
     ]
    }
   ],
   "source": [
    "true"
   ]
  },
  {
   "cell_type": "code",
   "execution_count": 27,
   "id": "505c93f1",
   "metadata": {},
   "outputs": [
    {
     "ename": "NameError",
     "evalue": "name 'false' is not defined",
     "output_type": "error",
     "traceback": [
      "\u001b[1;31m---------------------------------------------------------------------------\u001b[0m",
      "\u001b[1;31mNameError\u001b[0m                                 Traceback (most recent call last)",
      "\u001b[1;32m~\\AppData\\Local\\Temp\\ipykernel_2812\\1273114308.py\u001b[0m in \u001b[0;36m<module>\u001b[1;34m\u001b[0m\n\u001b[1;32m----> 1\u001b[1;33m \u001b[0mfalse\u001b[0m\u001b[1;33m\u001b[0m\u001b[1;33m\u001b[0m\u001b[0m\n\u001b[0m",
      "\u001b[1;31mNameError\u001b[0m: name 'false' is not defined"
     ]
    }
   ],
   "source": [
    "false"
   ]
  },
  {
   "cell_type": "markdown",
   "id": "9eca73a0",
   "metadata": {},
   "source": [
    "## VARIABLE\n",
    "tempat untuk nyimpan data\n",
    "\n",
    "- menggunakan A-Z, a-z, 0-9, _\n",
    "- ga bisa dimulai dengan angka\n",
    "- ga bisa pake special character"
   ]
  },
  {
   "cell_type": "code",
   "execution_count": 30,
   "id": "e149260b",
   "metadata": {},
   "outputs": [],
   "source": [
    "x=500"
   ]
  },
  {
   "cell_type": "code",
   "execution_count": 29,
   "id": "6e10a986",
   "metadata": {},
   "outputs": [
    {
     "name": "stdout",
     "output_type": "stream",
     "text": [
      "500\n"
     ]
    }
   ],
   "source": [
    "print(x)"
   ]
  },
  {
   "cell_type": "code",
   "execution_count": 31,
   "id": "eb694d1a",
   "metadata": {},
   "outputs": [
    {
     "data": {
      "text/plain": [
       "False"
      ]
     },
     "execution_count": 31,
     "metadata": {},
     "output_type": "execute_result"
    }
   ],
   "source": [
    "x == \"x\""
   ]
  },
  {
   "cell_type": "code",
   "execution_count": 32,
   "id": "8cfa80bb",
   "metadata": {},
   "outputs": [
    {
     "name": "stdout",
     "output_type": "stream",
     "text": [
      "x\n"
     ]
    }
   ],
   "source": [
    "print(\"x\")"
   ]
  },
  {
   "cell_type": "code",
   "execution_count": 33,
   "id": "fbe414d9",
   "metadata": {},
   "outputs": [
    {
     "ename": "SyntaxError",
     "evalue": "invalid syntax (3910925352.py, line 1)",
     "output_type": "error",
     "traceback": [
      "\u001b[1;36m  File \u001b[1;32m\"C:\\Users\\inayah\\AppData\\Local\\Temp\\ipykernel_2812\\3910925352.py\"\u001b[1;36m, line \u001b[1;32m1\u001b[0m\n\u001b[1;33m    x! = 500\u001b[0m\n\u001b[1;37m     ^\u001b[0m\n\u001b[1;31mSyntaxError\u001b[0m\u001b[1;31m:\u001b[0m invalid syntax\n"
     ]
    }
   ],
   "source": [
    "x! = 500"
   ]
  },
  {
   "cell_type": "code",
   "execution_count": 34,
   "id": "f97c5bc2",
   "metadata": {},
   "outputs": [
    {
     "ename": "SyntaxError",
     "evalue": "invalid syntax (1240257932.py, line 1)",
     "output_type": "error",
     "traceback": [
      "\u001b[1;36m  File \u001b[1;32m\"C:\\Users\\inayah\\AppData\\Local\\Temp\\ipykernel_2812\\1240257932.py\"\u001b[1;36m, line \u001b[1;32m1\u001b[0m\n\u001b[1;33m    5x = 500\u001b[0m\n\u001b[1;37m     ^\u001b[0m\n\u001b[1;31mSyntaxError\u001b[0m\u001b[1;31m:\u001b[0m invalid syntax\n"
     ]
    }
   ],
   "source": [
    "5x = 500"
   ]
  },
  {
   "cell_type": "code",
   "execution_count": 36,
   "id": "a4ac7ac7",
   "metadata": {},
   "outputs": [],
   "source": [
    "x5 = 500"
   ]
  },
  {
   "cell_type": "code",
   "execution_count": 37,
   "id": "691de60f",
   "metadata": {},
   "outputs": [
    {
     "name": "stdout",
     "output_type": "stream",
     "text": [
      "500\n"
     ]
    }
   ],
   "source": [
    "print(x5)"
   ]
  },
  {
   "cell_type": "code",
   "execution_count": 38,
   "id": "e9a663b3",
   "metadata": {},
   "outputs": [
    {
     "ename": "SyntaxError",
     "evalue": "cannot assign to operator (4048279955.py, line 1)",
     "output_type": "error",
     "traceback": [
      "\u001b[1;36m  File \u001b[1;32m\"C:\\Users\\inayah\\AppData\\Local\\Temp\\ipykernel_2812\\4048279955.py\"\u001b[1;36m, line \u001b[1;32m1\u001b[0m\n\u001b[1;33m    x-5 = 500\u001b[0m\n\u001b[1;37m    ^\u001b[0m\n\u001b[1;31mSyntaxError\u001b[0m\u001b[1;31m:\u001b[0m cannot assign to operator\n"
     ]
    }
   ],
   "source": [
    "x-5 = 500"
   ]
  },
  {
   "cell_type": "code",
   "execution_count": null,
   "id": "bc75b996",
   "metadata": {},
   "outputs": [],
   "source": [
    "x_5 = 500"
   ]
  },
  {
   "cell_type": "code",
   "execution_count": 39,
   "id": "60e3f56d",
   "metadata": {},
   "outputs": [
    {
     "ename": "SyntaxError",
     "evalue": "invalid syntax (4165307028.py, line 1)",
     "output_type": "error",
     "traceback": [
      "\u001b[1;36m  File \u001b[1;32m\"C:\\Users\\inayah\\AppData\\Local\\Temp\\ipykernel_2812\\4165307028.py\"\u001b[1;36m, line \u001b[1;32m1\u001b[0m\n\u001b[1;33m    int x = 500\u001b[0m\n\u001b[1;37m        ^\u001b[0m\n\u001b[1;31mSyntaxError\u001b[0m\u001b[1;31m:\u001b[0m invalid syntax\n"
     ]
    }
   ],
   "source": [
    "int x = 500"
   ]
  },
  {
   "cell_type": "code",
   "execution_count": 40,
   "id": "2e649abf",
   "metadata": {},
   "outputs": [
    {
     "name": "stdout",
     "output_type": "stream",
     "text": [
      "500\n",
      "<class 'int'>\n"
     ]
    }
   ],
   "source": [
    "x = 500\n",
    "print(x)\n",
    "print(type(x))"
   ]
  },
  {
   "cell_type": "code",
   "execution_count": 41,
   "id": "bb18ae82",
   "metadata": {},
   "outputs": [
    {
     "name": "stdout",
     "output_type": "stream",
     "text": [
      "smith\n",
      "<class 'str'>\n"
     ]
    }
   ],
   "source": [
    "x = \"smith\"\n",
    "print(x)\n",
    "print(type(x))"
   ]
  },
  {
   "cell_type": "code",
   "execution_count": 42,
   "id": "ae514fd9",
   "metadata": {},
   "outputs": [
    {
     "name": "stdout",
     "output_type": "stream",
     "text": [
      "5 5 5\n"
     ]
    }
   ],
   "source": [
    "x = 5\n",
    "y = 5\n",
    "z = 5\n",
    "print(x, y, z)"
   ]
  },
  {
   "cell_type": "code",
   "execution_count": 43,
   "id": "7b12bb88",
   "metadata": {},
   "outputs": [
    {
     "name": "stdout",
     "output_type": "stream",
     "text": [
      "15 15 15\n"
     ]
    }
   ],
   "source": [
    "a = b = c = 15\n",
    "print(a, b, c)"
   ]
  },
  {
   "cell_type": "code",
   "execution_count": 44,
   "id": "e3035e88",
   "metadata": {},
   "outputs": [
    {
     "data": {
      "text/plain": [
       "int"
      ]
     },
     "execution_count": 44,
     "metadata": {},
     "output_type": "execute_result"
    }
   ],
   "source": [
    "type(x)"
   ]
  },
  {
   "cell_type": "code",
   "execution_count": 45,
   "id": "c7f1159b",
   "metadata": {},
   "outputs": [
    {
     "name": "stdout",
     "output_type": "stream",
     "text": [
      "adi\n",
      "budi\n",
      "charles\n"
     ]
    }
   ],
   "source": [
    "nama_1 = \"adi\"\n",
    "Nama_1 = \"budi\"\n",
    "naMa_1 = \"charles\"\n",
    "\n",
    "print(nama_1)\n",
    "print(Nama_1)\n",
    "print(naMa_1)"
   ]
  },
  {
   "cell_type": "code",
   "execution_count": 46,
   "id": "fb7582be",
   "metadata": {},
   "outputs": [],
   "source": [
    "namaMurid = \"john doe\""
   ]
  },
  {
   "cell_type": "code",
   "execution_count": 49,
   "id": "0a5a75c8",
   "metadata": {},
   "outputs": [],
   "source": [
    "nama_murid = \"john doe\""
   ]
  },
  {
   "cell_type": "code",
   "execution_count": 48,
   "id": "3e2d21e2",
   "metadata": {},
   "outputs": [
    {
     "ename": "SyntaxError",
     "evalue": "invalid syntax (3729609520.py, line 1)",
     "output_type": "error",
     "traceback": [
      "\u001b[1;36m  File \u001b[1;32m\"C:\\Users\\inayah\\AppData\\Local\\Temp\\ipykernel_2812\\3729609520.py\"\u001b[1;36m, line \u001b[1;32m1\u001b[0m\n\u001b[1;33m    BiodataMurid = class()\u001b[0m\n\u001b[1;37m                   ^\u001b[0m\n\u001b[1;31mSyntaxError\u001b[0m\u001b[1;31m:\u001b[0m invalid syntax\n"
     ]
    }
   ],
   "source": [
    "BiodataMurid = class()"
   ]
  },
  {
   "cell_type": "markdown",
   "id": "87cfb427",
   "metadata": {},
   "source": [
    "Operators\n",
    "\n",
    "+ penambahan\n",
    "- pengurangan\n",
    "/ pembagian (hasil float)\n",
    "// pembagian (hasil int)\n",
    "* pengalian\n",
    "** pangkat\n",
    "% mod (sisa pembagian)"
   ]
  },
  {
   "cell_type": "code",
   "execution_count": 50,
   "id": "c4fa6a96",
   "metadata": {},
   "outputs": [
    {
     "name": "stdout",
     "output_type": "stream",
     "text": [
      "15 15\n"
     ]
    }
   ],
   "source": [
    "print(a, b)"
   ]
  },
  {
   "cell_type": "code",
   "execution_count": 51,
   "id": "9cef91a4",
   "metadata": {},
   "outputs": [
    {
     "name": "stdout",
     "output_type": "stream",
     "text": [
      "30\n",
      "30\n",
      "10\n"
     ]
    }
   ],
   "source": [
    "print(15 + 15)\n",
    "print(a + b)\n",
    "print(a - 5)"
   ]
  },
  {
   "cell_type": "code",
   "execution_count": 52,
   "id": "c9a65a24",
   "metadata": {},
   "outputs": [
    {
     "name": "stdout",
     "output_type": "stream",
     "text": [
      "35\n"
     ]
    }
   ],
   "source": [
    "halo = 20\n",
    "print(halo + 15)"
   ]
  },
  {
   "cell_type": "code",
   "execution_count": 53,
   "id": "fc5fc0b0",
   "metadata": {},
   "outputs": [
    {
     "ename": "TypeError",
     "evalue": "can only concatenate str (not \"int\") to str",
     "output_type": "error",
     "traceback": [
      "\u001b[1;31m---------------------------------------------------------------------------\u001b[0m",
      "\u001b[1;31mTypeError\u001b[0m                                 Traceback (most recent call last)",
      "\u001b[1;32m~\\AppData\\Local\\Temp\\ipykernel_2812\\448182563.py\u001b[0m in \u001b[0;36m<module>\u001b[1;34m\u001b[0m\n\u001b[0;32m      1\u001b[0m \u001b[0mhalo\u001b[0m \u001b[1;33m=\u001b[0m \u001b[1;34m\"goodbye\"\u001b[0m\u001b[1;33m\u001b[0m\u001b[1;33m\u001b[0m\u001b[0m\n\u001b[1;32m----> 2\u001b[1;33m \u001b[0mprint\u001b[0m\u001b[1;33m(\u001b[0m\u001b[0mhalo\u001b[0m \u001b[1;33m+\u001b[0m \u001b[1;36m15\u001b[0m\u001b[1;33m)\u001b[0m\u001b[1;33m\u001b[0m\u001b[1;33m\u001b[0m\u001b[0m\n\u001b[0m",
      "\u001b[1;31mTypeError\u001b[0m: can only concatenate str (not \"int\") to str"
     ]
    }
   ],
   "source": [
    "halo = \"goodbye\"\n",
    "print(halo + 15)"
   ]
  },
  {
   "cell_type": "code",
   "execution_count": 54,
   "id": "f379aabc",
   "metadata": {},
   "outputs": [
    {
     "name": "stdout",
     "output_type": "stream",
     "text": [
      "35.0\n"
     ]
    }
   ],
   "source": [
    "print(15 + 20.0)"
   ]
  },
  {
   "cell_type": "code",
   "execution_count": 55,
   "id": "9bb0c940",
   "metadata": {},
   "outputs": [
    {
     "name": "stdout",
     "output_type": "stream",
     "text": [
      "10.0\n",
      "10\n",
      "6\n"
     ]
    }
   ],
   "source": [
    "print(50 / 5)\n",
    "print(50 // 5)\n",
    "print(50 // 8)"
   ]
  },
  {
   "cell_type": "code",
   "execution_count": 56,
   "id": "29577c81",
   "metadata": {},
   "outputs": [
    {
     "name": "stdout",
     "output_type": "stream",
     "text": [
      "100\n",
      "125.0\n"
     ]
    }
   ],
   "source": [
    "print(50 * 2)\n",
    "print(50 * 2.5)"
   ]
  },
  {
   "cell_type": "code",
   "execution_count": 57,
   "id": "91b5e343",
   "metadata": {},
   "outputs": [
    {
     "name": "stdout",
     "output_type": "stream",
     "text": [
      "32\n",
      "8.0\n"
     ]
    }
   ],
   "source": [
    "print(2 ** 5)\n",
    "print(64 ** 0.5)"
   ]
  },
  {
   "cell_type": "code",
   "execution_count": 58,
   "id": "7c38dd12",
   "metadata": {},
   "outputs": [
    {
     "data": {
      "text/plain": [
       "2"
      ]
     },
     "execution_count": 58,
     "metadata": {},
     "output_type": "execute_result"
    }
   ],
   "source": [
    "50 % 8"
   ]
  },
  {
   "cell_type": "code",
   "execution_count": 59,
   "id": "5c6bf3e8",
   "metadata": {},
   "outputs": [
    {
     "data": {
      "text/plain": [
       "44"
      ]
     },
     "execution_count": 59,
     "metadata": {},
     "output_type": "execute_result"
    }
   ],
   "source": [
    "(5 + 10) * 3 - 1 ** (12 - 2)"
   ]
  },
  {
   "cell_type": "markdown",
   "id": "1dfbc661",
   "metadata": {},
   "source": [
    "## COMPARISON\n",
    "\n",
    "- a == b \n",
    "- a != b \n",
    "- a < b\n",
    "- a > b\n",
    "- a <= b\n",
    "- a >= b"
   ]
  },
  {
   "cell_type": "code",
   "execution_count": 60,
   "id": "23f67479",
   "metadata": {},
   "outputs": [],
   "source": [
    "x=5"
   ]
  },
  {
   "cell_type": "code",
   "execution_count": 61,
   "id": "7e15bda4",
   "metadata": {},
   "outputs": [
    {
     "data": {
      "text/plain": [
       "True"
      ]
     },
     "execution_count": 61,
     "metadata": {},
     "output_type": "execute_result"
    }
   ],
   "source": [
    "x==5"
   ]
  },
  {
   "cell_type": "code",
   "execution_count": 62,
   "id": "1bca5f06",
   "metadata": {},
   "outputs": [
    {
     "data": {
      "text/plain": [
       "False"
      ]
     },
     "execution_count": 62,
     "metadata": {},
     "output_type": "execute_result"
    }
   ],
   "source": [
    "x == \"hello\""
   ]
  },
  {
   "cell_type": "code",
   "execution_count": 63,
   "id": "980da277",
   "metadata": {},
   "outputs": [
    {
     "data": {
      "text/plain": [
       "True"
      ]
     },
     "execution_count": 63,
     "metadata": {},
     "output_type": "execute_result"
    }
   ],
   "source": [
    "x != \"hello\""
   ]
  },
  {
   "cell_type": "code",
   "execution_count": 64,
   "id": "c605083b",
   "metadata": {},
   "outputs": [
    {
     "ename": "TypeError",
     "evalue": "'>' not supported between instances of 'int' and 'str'",
     "output_type": "error",
     "traceback": [
      "\u001b[1;31m---------------------------------------------------------------------------\u001b[0m",
      "\u001b[1;31mTypeError\u001b[0m                                 Traceback (most recent call last)",
      "\u001b[1;32m~\\AppData\\Local\\Temp\\ipykernel_2812\\2736306263.py\u001b[0m in \u001b[0;36m<module>\u001b[1;34m\u001b[0m\n\u001b[1;32m----> 1\u001b[1;33m \u001b[0mx\u001b[0m \u001b[1;33m>\u001b[0m \u001b[1;34m\"hello\"\u001b[0m\u001b[1;33m\u001b[0m\u001b[1;33m\u001b[0m\u001b[0m\n\u001b[0m",
      "\u001b[1;31mTypeError\u001b[0m: '>' not supported between instances of 'int' and 'str'"
     ]
    }
   ],
   "source": [
    "x > \"hello\""
   ]
  },
  {
   "cell_type": "code",
   "execution_count": 65,
   "id": "b25a9445",
   "metadata": {},
   "outputs": [
    {
     "data": {
      "text/plain": [
       "True"
      ]
     },
     "execution_count": 65,
     "metadata": {},
     "output_type": "execute_result"
    }
   ],
   "source": [
    "5 < 8"
   ]
  },
  {
   "cell_type": "code",
   "execution_count": 66,
   "id": "52d50202",
   "metadata": {},
   "outputs": [
    {
     "ename": "TypeError",
     "evalue": "'<' not supported between instances of 'int' and 'str'",
     "output_type": "error",
     "traceback": [
      "\u001b[1;31m---------------------------------------------------------------------------\u001b[0m",
      "\u001b[1;31mTypeError\u001b[0m                                 Traceback (most recent call last)",
      "\u001b[1;32m~\\AppData\\Local\\Temp\\ipykernel_2812\\3737306139.py\u001b[0m in \u001b[0;36m<module>\u001b[1;34m\u001b[0m\n\u001b[1;32m----> 1\u001b[1;33m \u001b[1;36m0\u001b[0m \u001b[1;33m<\u001b[0m \u001b[1;34m\"a\"\u001b[0m\u001b[1;33m\u001b[0m\u001b[1;33m\u001b[0m\u001b[0m\n\u001b[0m",
      "\u001b[1;31mTypeError\u001b[0m: '<' not supported between instances of 'int' and 'str'"
     ]
    }
   ],
   "source": [
    "0 < \"a\""
   ]
  },
  {
   "cell_type": "code",
   "execution_count": 67,
   "id": "c3b5e649",
   "metadata": {},
   "outputs": [
    {
     "data": {
      "text/plain": [
       "True"
      ]
     },
     "execution_count": 67,
     "metadata": {},
     "output_type": "execute_result"
    }
   ],
   "source": [
    "'0' < \"a\""
   ]
  },
  {
   "cell_type": "code",
   "execution_count": 68,
   "id": "49a3b772",
   "metadata": {},
   "outputs": [
    {
     "data": {
      "text/plain": [
       "str"
      ]
     },
     "execution_count": 68,
     "metadata": {},
     "output_type": "execute_result"
    }
   ],
   "source": [
    "type(\"ars!@#:\\|{><})\")"
   ]
  },
  {
   "cell_type": "code",
   "execution_count": 69,
   "id": "78b189f0",
   "metadata": {},
   "outputs": [
    {
     "data": {
      "text/plain": [
       "True"
      ]
     },
     "execution_count": 69,
     "metadata": {},
     "output_type": "execute_result"
    }
   ],
   "source": [
    "\"A\" < \"a\""
   ]
  },
  {
   "cell_type": "code",
   "execution_count": 70,
   "id": "fbb2843f",
   "metadata": {},
   "outputs": [
    {
     "data": {
      "text/plain": [
       "True"
      ]
     },
     "execution_count": 70,
     "metadata": {},
     "output_type": "execute_result"
    }
   ],
   "source": [
    "\"a\" < \"h\""
   ]
  },
  {
   "cell_type": "code",
   "execution_count": 71,
   "id": "6818b015",
   "metadata": {},
   "outputs": [
    {
     "name": "stdout",
     "output_type": "stream",
     "text": [
      "False\n",
      "True\n"
     ]
    }
   ],
   "source": [
    "print(\"ape\" > \"hotel\")\n",
    "print(\"ape\" < \"hotel\")"
   ]
  },
  {
   "cell_type": "code",
   "execution_count": 72,
   "id": "c58d146a",
   "metadata": {},
   "outputs": [
    {
     "name": "stdout",
     "output_type": "stream",
     "text": [
      "False\n",
      "True\n"
     ]
    }
   ],
   "source": [
    "print(\"hello\" > \"tv\")\n",
    "print(\"hello\" < \"tv\")"
   ]
  },
  {
   "cell_type": "code",
   "execution_count": 73,
   "id": "8ffa1b8e",
   "metadata": {},
   "outputs": [
    {
     "data": {
      "text/plain": [
       "True"
      ]
     },
     "execution_count": 73,
     "metadata": {},
     "output_type": "execute_result"
    }
   ],
   "source": [
    "True == True"
   ]
  },
  {
   "cell_type": "code",
   "execution_count": 74,
   "id": "cff834cf",
   "metadata": {},
   "outputs": [
    {
     "data": {
      "text/plain": [
       "False"
      ]
     },
     "execution_count": 74,
     "metadata": {},
     "output_type": "execute_result"
    }
   ],
   "source": [
    "True == False"
   ]
  },
  {
   "cell_type": "code",
   "execution_count": 75,
   "id": "aaca29a6",
   "metadata": {},
   "outputs": [
    {
     "data": {
      "text/plain": [
       "True"
      ]
     },
     "execution_count": 75,
     "metadata": {},
     "output_type": "execute_result"
    }
   ],
   "source": [
    "True != False"
   ]
  },
  {
   "cell_type": "code",
   "execution_count": 76,
   "id": "9525e77a",
   "metadata": {},
   "outputs": [
    {
     "data": {
      "text/plain": [
       "True"
      ]
     },
     "execution_count": 76,
     "metadata": {},
     "output_type": "execute_result"
    }
   ],
   "source": [
    "False == False"
   ]
  },
  {
   "cell_type": "markdown",
   "id": "b40fa01a",
   "metadata": {},
   "source": [
    "## STRING"
   ]
  },
  {
   "cell_type": "code",
   "execution_count": 77,
   "id": "0b47e459",
   "metadata": {},
   "outputs": [
    {
     "ename": "TypeError",
     "evalue": "can only concatenate str (not \"int\") to str",
     "output_type": "error",
     "traceback": [
      "\u001b[1;31m---------------------------------------------------------------------------\u001b[0m",
      "\u001b[1;31mTypeError\u001b[0m                                 Traceback (most recent call last)",
      "\u001b[1;32m~\\AppData\\Local\\Temp\\ipykernel_2812\\2572526635.py\u001b[0m in \u001b[0;36m<module>\u001b[1;34m\u001b[0m\n\u001b[1;32m----> 1\u001b[1;33m \u001b[1;34m\"a\"\u001b[0m \u001b[1;33m+\u001b[0m \u001b[1;36m5\u001b[0m\u001b[1;33m\u001b[0m\u001b[1;33m\u001b[0m\u001b[0m\n\u001b[0m",
      "\u001b[1;31mTypeError\u001b[0m: can only concatenate str (not \"int\") to str"
     ]
    }
   ],
   "source": [
    "\"a\" + 5"
   ]
  },
  {
   "cell_type": "code",
   "execution_count": 78,
   "id": "1bd2c658",
   "metadata": {},
   "outputs": [
    {
     "data": {
      "text/plain": [
       "'ab'"
      ]
     },
     "execution_count": 78,
     "metadata": {},
     "output_type": "execute_result"
    }
   ],
   "source": [
    "\"a\" + \"b\""
   ]
  },
  {
   "cell_type": "code",
   "execution_count": 79,
   "id": "23f54700",
   "metadata": {},
   "outputs": [
    {
     "data": {
      "text/plain": [
       "'aaaaa'"
      ]
     },
     "execution_count": 79,
     "metadata": {},
     "output_type": "execute_result"
    }
   ],
   "source": [
    "\"a\" * 5"
   ]
  },
  {
   "cell_type": "code",
   "execution_count": 80,
   "id": "c7708afb",
   "metadata": {},
   "outputs": [
    {
     "name": "stdout",
     "output_type": "stream",
     "text": [
      "jalan section A\n",
      "50 + 50 =  100\n",
      "================================================================================\n",
      "jalan section B\n"
     ]
    }
   ],
   "source": [
    "print(\"jalan section A\")\n",
    "print(\"50 + 50 = \", 50 + 50)\n",
    "print(\"=\" * 80) \n",
    "print(\"jalan section B\")"
   ]
  },
  {
   "cell_type": "code",
   "execution_count": 81,
   "id": "dbbba8c5",
   "metadata": {},
   "outputs": [
    {
     "name": "stdout",
     "output_type": "stream",
     "text": [
      "foobar\n"
     ]
    }
   ],
   "source": [
    "print(\"foo\" + \"bar\")"
   ]
  },
  {
   "cell_type": "code",
   "execution_count": 82,
   "id": "40850909",
   "metadata": {},
   "outputs": [
    {
     "name": "stdout",
     "output_type": "stream",
     "text": [
      "saya\n"
     ]
    }
   ],
   "source": [
    "a = \"sa\"\n",
    "b = \"ya\"\n",
    "print(a + b)"
   ]
  },
  {
   "cell_type": "code",
   "execution_count": 83,
   "id": "931da3e8",
   "metadata": {},
   "outputs": [
    {
     "name": "stdout",
     "output_type": "stream",
     "text": [
      "sa sa sa sa sa \n"
     ]
    }
   ],
   "source": [
    "print(\"sa \" * 5)"
   ]
  },
  {
   "cell_type": "code",
   "execution_count": 84,
   "id": "29c164a8",
   "metadata": {},
   "outputs": [
    {
     "data": {
      "text/plain": [
       "True"
      ]
     },
     "execution_count": 84,
     "metadata": {},
     "output_type": "execute_result"
    }
   ],
   "source": [
    "a in \"saya mau makan\""
   ]
  },
  {
   "cell_type": "code",
   "execution_count": 85,
   "id": "bb61a44f",
   "metadata": {},
   "outputs": [],
   "source": [
    "kalimat = \"saYa mAu mAKan\""
   ]
  },
  {
   "cell_type": "code",
   "execution_count": 86,
   "id": "35d9ef92",
   "metadata": {},
   "outputs": [
    {
     "data": {
      "text/plain": [
       "'Saya mau makan'"
      ]
     },
     "execution_count": 86,
     "metadata": {},
     "output_type": "execute_result"
    }
   ],
   "source": [
    "kalimat.capitalize()"
   ]
  },
  {
   "cell_type": "code",
   "execution_count": 87,
   "id": "b12b6013",
   "metadata": {},
   "outputs": [
    {
     "data": {
      "text/plain": [
       "'sxYx mAu mAKxn'"
      ]
     },
     "execution_count": 87,
     "metadata": {},
     "output_type": "execute_result"
    }
   ],
   "source": [
    "kalimat.replace(\"a\", \"x\")"
   ]
  },
  {
   "cell_type": "code",
   "execution_count": 88,
   "id": "cb6d8322",
   "metadata": {},
   "outputs": [
    {
     "data": {
      "text/plain": [
       "'Saya mau makan'"
      ]
     },
     "execution_count": 88,
     "metadata": {},
     "output_type": "execute_result"
    }
   ],
   "source": [
    "str.capitalize(kalimat)"
   ]
  },
  {
   "cell_type": "code",
   "execution_count": 89,
   "id": "e08e6138",
   "metadata": {},
   "outputs": [
    {
     "data": {
      "text/plain": [
       "'SAYA MAU MAKAN'"
      ]
     },
     "execution_count": 89,
     "metadata": {},
     "output_type": "execute_result"
    }
   ],
   "source": [
    "kalimat.upper()"
   ]
  },
  {
   "cell_type": "code",
   "execution_count": 90,
   "id": "885b0691",
   "metadata": {},
   "outputs": [
    {
     "data": {
      "text/plain": [
       "'saya mau makan'"
      ]
     },
     "execution_count": 90,
     "metadata": {},
     "output_type": "execute_result"
    }
   ],
   "source": [
    "kalimat.lower()"
   ]
  },
  {
   "cell_type": "code",
   "execution_count": 91,
   "id": "ca433e2a",
   "metadata": {},
   "outputs": [
    {
     "data": {
      "text/plain": [
       "'SAyA MaU MakAN'"
      ]
     },
     "execution_count": 91,
     "metadata": {},
     "output_type": "execute_result"
    }
   ],
   "source": [
    "kalimat.swapcase()"
   ]
  },
  {
   "cell_type": "code",
   "execution_count": 92,
   "id": "77ce51dc",
   "metadata": {},
   "outputs": [
    {
     "data": {
      "text/plain": [
       "'Saya Mau Makan'"
      ]
     },
     "execution_count": 92,
     "metadata": {},
     "output_type": "execute_result"
    }
   ],
   "source": [
    "kalimat.title()"
   ]
  },
  {
   "cell_type": "markdown",
   "id": "51e2cadf",
   "metadata": {},
   "source": [
    "## LIST\n",
    "\n",
    "- daftar dari apapun (str, float, int, dict, list)\n",
    "- ngurut\n",
    "- mutable\n",
    "- bisa diakses dengan index\n",
    "[ ]"
   ]
  },
  {
   "cell_type": "code",
   "execution_count": 93,
   "id": "922402ae",
   "metadata": {},
   "outputs": [
    {
     "name": "stdout",
     "output_type": "stream",
     "text": [
      "['apel', 'pisang', 'durian', 'jeruk', 'semangka', 'salak']\n",
      "['mobil', 'motor', 'angkot', 'bus']\n"
     ]
    }
   ],
   "source": [
    "a = [\"apel\", \"pisang\", \"durian\", \"jeruk\", \"semangka\", \"salak\"]\n",
    "b = [\"mobil\", \"motor\", \"angkot\", \"bus\"]\n",
    "\n",
    "print(a)\n",
    "print(b)"
   ]
  },
  {
   "cell_type": "code",
   "execution_count": 94,
   "id": "3a706848",
   "metadata": {},
   "outputs": [],
   "source": [
    "c = ['apel', 45, True, [\"merah\", \"biru\", \"hijau\"]]"
   ]
  },
  {
   "cell_type": "code",
   "execution_count": 95,
   "id": "fde77976",
   "metadata": {},
   "outputs": [
    {
     "name": "stdout",
     "output_type": "stream",
     "text": [
      "apel\n",
      "45\n",
      "True\n",
      "['merah', 'biru', 'hijau']\n"
     ]
    }
   ],
   "source": [
    "print(c[0])\n",
    "print(c[1])\n",
    "print(c[2])\n",
    "print(c[3])"
   ]
  },
  {
   "cell_type": "code",
   "execution_count": 96,
   "id": "75b2dd6f",
   "metadata": {},
   "outputs": [
    {
     "data": {
      "text/plain": [
       "False"
      ]
     },
     "execution_count": 96,
     "metadata": {},
     "output_type": "execute_result"
    }
   ],
   "source": [
    "a == b"
   ]
  },
  {
   "cell_type": "code",
   "execution_count": 97,
   "id": "7502cf48",
   "metadata": {},
   "outputs": [
    {
     "data": {
      "text/plain": [
       "'durian'"
      ]
     },
     "execution_count": 97,
     "metadata": {},
     "output_type": "execute_result"
    }
   ],
   "source": [
    "a[2]"
   ]
  },
  {
   "cell_type": "code",
   "execution_count": null,
   "id": "75a58f3e",
   "metadata": {},
   "outputs": [],
   "source": [
    "0 1 2 3 4"
   ]
  },
  {
   "cell_type": "code",
   "execution_count": null,
   "id": "3c468ec0",
   "metadata": {},
   "outputs": [],
   "source": [
    "-5 -4 -3 -2 -1 0 1 2 3 4 5"
   ]
  },
  {
   "cell_type": "code",
   "execution_count": null,
   "id": "08bf4a94",
   "metadata": {},
   "outputs": [],
   "source": [
    "a   b  c  d  e  f\n",
    "0   1  2  3  4  5\n",
    "-6 -5 -4 -3 -2 -1"
   ]
  },
  {
   "cell_type": "code",
   "execution_count": 98,
   "id": "d678cf3e",
   "metadata": {},
   "outputs": [
    {
     "data": {
      "text/plain": [
       "['apel', 'pisang', 'durian', 'jeruk', 'semangka', 'salak']"
      ]
     },
     "execution_count": 98,
     "metadata": {},
     "output_type": "execute_result"
    }
   ],
   "source": [
    "a"
   ]
  },
  {
   "cell_type": "code",
   "execution_count": 99,
   "id": "69a17ee3",
   "metadata": {},
   "outputs": [
    {
     "name": "stdout",
     "output_type": "stream",
     "text": [
      "durian\n",
      "jeruk\n",
      "semangka\n",
      "salak\n",
      "apel\n",
      "pisang\n",
      "durian\n",
      "jeruk\n"
     ]
    }
   ],
   "source": [
    "print(a[-4])\n",
    "print(a[-3])\n",
    "print(a[-2])\n",
    "print(a[-1])\n",
    "print(a[0])\n",
    "print(a[1])\n",
    "print(a[2])\n",
    "print(a[3])"
   ]
  },
  {
   "cell_type": "code",
   "execution_count": 100,
   "id": "9443714f",
   "metadata": {},
   "outputs": [
    {
     "data": {
      "text/plain": [
       "['apel', 'pisang', 'durian', 'jeruk', 'semangka', 'salak']"
      ]
     },
     "execution_count": 100,
     "metadata": {},
     "output_type": "execute_result"
    }
   ],
   "source": [
    "a"
   ]
  },
  {
   "cell_type": "code",
   "execution_count": 103,
   "id": "5b3f5ca6",
   "metadata": {},
   "outputs": [
    {
     "ename": "SyntaxError",
     "evalue": "invalid syntax (1854813207.py, line 1)",
     "output_type": "error",
     "traceback": [
      "\u001b[1;36m  File \u001b[1;32m\"C:\\Users\\inayah\\AppData\\Local\\Temp\\ipykernel_2812\\1854813207.py\"\u001b[1;36m, line \u001b[1;32m1\u001b[0m\n\u001b[1;33m    a[0:2]list[start (inclusive): stop(exclusive)]\u001b[0m\n\u001b[1;37m          ^\u001b[0m\n\u001b[1;31mSyntaxError\u001b[0m\u001b[1;31m:\u001b[0m invalid syntax\n"
     ]
    }
   ],
   "source": [
    "a[0:2]\n",
    "list[start (inclusive): stop(exclusive)]"
   ]
  },
  {
   "cell_type": "code",
   "execution_count": 104,
   "id": "cff4ae49",
   "metadata": {},
   "outputs": [
    {
     "data": {
      "text/plain": [
       "True"
      ]
     },
     "execution_count": 104,
     "metadata": {},
     "output_type": "execute_result"
    }
   ],
   "source": [
    "0.2 == .2"
   ]
  },
  {
   "cell_type": "code",
   "execution_count": 105,
   "id": "718b413b",
   "metadata": {},
   "outputs": [
    {
     "data": {
      "text/plain": [
       "['jeruk', 'semangka']"
      ]
     },
     "execution_count": 105,
     "metadata": {},
     "output_type": "execute_result"
    }
   ],
   "source": [
    "a[3:5]"
   ]
  },
  {
   "cell_type": "code",
   "execution_count": 106,
   "id": "35bb7fbc",
   "metadata": {},
   "outputs": [
    {
     "data": {
      "text/plain": [
       "['apel', 'pisang', 'durian']"
      ]
     },
     "execution_count": 106,
     "metadata": {},
     "output_type": "execute_result"
    }
   ],
   "source": [
    "a[0:3]"
   ]
  },
  {
   "cell_type": "code",
   "execution_count": 107,
   "id": "5793106c",
   "metadata": {},
   "outputs": [
    {
     "data": {
      "text/plain": [
       "['apel', 'pisang', 'durian']"
      ]
     },
     "execution_count": 107,
     "metadata": {},
     "output_type": "execute_result"
    }
   ],
   "source": [
    "a[:3]"
   ]
  },
  {
   "cell_type": "code",
   "execution_count": 108,
   "id": "cc450ffa",
   "metadata": {},
   "outputs": [
    {
     "data": {
      "text/plain": [
       "['pisang', 'durian', 'jeruk', 'semangka', 'salak']"
      ]
     },
     "execution_count": 108,
     "metadata": {},
     "output_type": "execute_result"
    }
   ],
   "source": [
    "a[1:]"
   ]
  },
  {
   "cell_type": "code",
   "execution_count": 109,
   "id": "0b6c313d",
   "metadata": {},
   "outputs": [
    {
     "data": {
      "text/plain": [
       "['apel', 'pisang', 'durian', 'jeruk', 'semangka']"
      ]
     },
     "execution_count": 109,
     "metadata": {},
     "output_type": "execute_result"
    }
   ],
   "source": [
    "a[:-1]"
   ]
  },
  {
   "cell_type": "code",
   "execution_count": 110,
   "id": "f7a26a98",
   "metadata": {},
   "outputs": [
    {
     "data": {
      "text/plain": [
       "['jeruk', 'semangka', 'salak']"
      ]
     },
     "execution_count": 110,
     "metadata": {},
     "output_type": "execute_result"
    }
   ],
   "source": [
    "a[-3:]"
   ]
  },
  {
   "cell_type": "code",
   "execution_count": 111,
   "id": "908aadd1",
   "metadata": {},
   "outputs": [
    {
     "data": {
      "text/plain": [
       "['apel', 'pisang', 'durian']"
      ]
     },
     "execution_count": 111,
     "metadata": {},
     "output_type": "execute_result"
    }
   ],
   "source": [
    "a[:3]"
   ]
  },
  {
   "cell_type": "code",
   "execution_count": 112,
   "id": "72dca68a",
   "metadata": {},
   "outputs": [
    {
     "data": {
      "text/plain": [
       "['durian', 'jeruk']"
      ]
     },
     "execution_count": 112,
     "metadata": {},
     "output_type": "execute_result"
    }
   ],
   "source": [
    "a[2:-2]"
   ]
  },
  {
   "cell_type": "code",
   "execution_count": 113,
   "id": "ecc3dc7f",
   "metadata": {},
   "outputs": [
    {
     "data": {
      "text/plain": [
       "['apel', 'pisang', 'durian', 'jeruk', 'semangka', 'salak']"
      ]
     },
     "execution_count": 113,
     "metadata": {},
     "output_type": "execute_result"
    }
   ],
   "source": [
    "a"
   ]
  },
  {
   "cell_type": "code",
   "execution_count": 114,
   "id": "66bb79eb",
   "metadata": {},
   "outputs": [
    {
     "data": {
      "text/plain": [
       "['durian', 'jeruk', 'semangka']"
      ]
     },
     "execution_count": 114,
     "metadata": {},
     "output_type": "execute_result"
    }
   ],
   "source": [
    "a[2:5]"
   ]
  },
  {
   "cell_type": "code",
   "execution_count": 115,
   "id": "f25a16bc",
   "metadata": {},
   "outputs": [
    {
     "data": {
      "text/plain": [
       "['durian', 'jeruk', 'semangka']"
      ]
     },
     "execution_count": 115,
     "metadata": {},
     "output_type": "execute_result"
    }
   ],
   "source": [
    "a[2:-1]"
   ]
  },
  {
   "cell_type": "code",
   "execution_count": 116,
   "id": "f85fa477",
   "metadata": {},
   "outputs": [
    {
     "data": {
      "text/plain": [
       "'a mAu mA'"
      ]
     },
     "execution_count": 116,
     "metadata": {},
     "output_type": "execute_result"
    }
   ],
   "source": [
    "kalimat[3:-3]"
   ]
  },
  {
   "cell_type": "code",
   "execution_count": 117,
   "id": "4c6af357",
   "metadata": {},
   "outputs": [
    {
     "data": {
      "text/plain": [
       "'saYa mAu mAKan'"
      ]
     },
     "execution_count": 117,
     "metadata": {},
     "output_type": "execute_result"
    }
   ],
   "source": [
    "kalimat"
   ]
  },
  {
   "cell_type": "code",
   "execution_count": 118,
   "id": "f0e46970",
   "metadata": {},
   "outputs": [
    {
     "name": "stdout",
     "output_type": "stream",
     "text": [
      "14\n",
      "6\n"
     ]
    }
   ],
   "source": [
    "print(len(kalimat))\n",
    "print(len(a))"
   ]
  },
  {
   "cell_type": "code",
   "execution_count": 119,
   "id": "e02fe699",
   "metadata": {},
   "outputs": [
    {
     "data": {
      "text/plain": [
       "['apel', 45, True, ['merah', 'biru', 'hijau']]"
      ]
     },
     "execution_count": 119,
     "metadata": {},
     "output_type": "execute_result"
    }
   ],
   "source": [
    "c"
   ]
  },
  {
   "cell_type": "code",
   "execution_count": 120,
   "id": "0a0cc4c3",
   "metadata": {},
   "outputs": [
    {
     "name": "stdout",
     "output_type": "stream",
     "text": [
      "4\n"
     ]
    }
   ],
   "source": [
    "print(len(c))"
   ]
  },
  {
   "cell_type": "code",
   "execution_count": 121,
   "id": "e28a898b",
   "metadata": {},
   "outputs": [
    {
     "data": {
      "text/plain": [
       "['apel', 'pisang', 'durian', 'jeruk', 'semangka', 'salak']"
      ]
     },
     "execution_count": 121,
     "metadata": {},
     "output_type": "execute_result"
    }
   ],
   "source": [
    "a"
   ]
  },
  {
   "cell_type": "code",
   "execution_count": 122,
   "id": "3530c58d",
   "metadata": {},
   "outputs": [],
   "source": [
    "a[2] = \"makanan\""
   ]
  },
  {
   "cell_type": "code",
   "execution_count": 123,
   "id": "7864647b",
   "metadata": {},
   "outputs": [
    {
     "data": {
      "text/plain": [
       "['apel', 'pisang', 'makanan', 'jeruk', 'semangka', 'salak']"
      ]
     },
     "execution_count": 123,
     "metadata": {},
     "output_type": "execute_result"
    }
   ],
   "source": [
    "a"
   ]
  },
  {
   "cell_type": "code",
   "execution_count": 124,
   "id": "ca9e06bf",
   "metadata": {},
   "outputs": [
    {
     "data": {
      "text/plain": [
       "'saYa mAu mAKan'"
      ]
     },
     "execution_count": 124,
     "metadata": {},
     "output_type": "execute_result"
    }
   ],
   "source": [
    "kalimat"
   ]
  },
  {
   "cell_type": "code",
   "execution_count": null,
   "id": "9354ce04",
   "metadata": {},
   "outputs": [],
   "source": [
    "immutable vs mutable\n",
    "str vs          list"
   ]
  },
  {
   "cell_type": "code",
   "execution_count": 125,
   "id": "873e8233",
   "metadata": {},
   "outputs": [
    {
     "ename": "TypeError",
     "evalue": "'str' object does not support item assignment",
     "output_type": "error",
     "traceback": [
      "\u001b[1;31m---------------------------------------------------------------------------\u001b[0m",
      "\u001b[1;31mTypeError\u001b[0m                                 Traceback (most recent call last)",
      "\u001b[1;32m~\\AppData\\Local\\Temp\\ipykernel_2812\\85602962.py\u001b[0m in \u001b[0;36m<module>\u001b[1;34m\u001b[0m\n\u001b[1;32m----> 1\u001b[1;33m \u001b[0mkalimat\u001b[0m\u001b[1;33m[\u001b[0m\u001b[1;36m5\u001b[0m\u001b[1;33m]\u001b[0m \u001b[1;33m=\u001b[0m \u001b[1;34m\"X\"\u001b[0m\u001b[1;33m\u001b[0m\u001b[1;33m\u001b[0m\u001b[0m\n\u001b[0m",
      "\u001b[1;31mTypeError\u001b[0m: 'str' object does not support item assignment"
     ]
    }
   ],
   "source": [
    "kalimat[5] = \"X\""
   ]
  },
  {
   "cell_type": "code",
   "execution_count": 126,
   "id": "bfcfa2da",
   "metadata": {},
   "outputs": [
    {
     "data": {
      "text/plain": [
       "['apel', 'pisang', 'makanan', 'jeruk', 'semangka', 'salak']"
      ]
     },
     "execution_count": 126,
     "metadata": {},
     "output_type": "execute_result"
    }
   ],
   "source": [
    "a"
   ]
  },
  {
   "cell_type": "code",
   "execution_count": 127,
   "id": "488d51bc",
   "metadata": {},
   "outputs": [],
   "source": [
    "a[-2:] = [5, 8]"
   ]
  },
  {
   "cell_type": "code",
   "execution_count": 128,
   "id": "a69c9f27",
   "metadata": {},
   "outputs": [
    {
     "data": {
      "text/plain": [
       "['apel', 'pisang', 'makanan', 'jeruk', 5, 8]"
      ]
     },
     "execution_count": 128,
     "metadata": {},
     "output_type": "execute_result"
    }
   ],
   "source": [
    "a"
   ]
  },
  {
   "cell_type": "code",
   "execution_count": 129,
   "id": "f2bd6d21",
   "metadata": {},
   "outputs": [],
   "source": [
    "a[:3] = [2, 4]"
   ]
  },
  {
   "cell_type": "code",
   "execution_count": 130,
   "id": "90736d8f",
   "metadata": {},
   "outputs": [
    {
     "data": {
      "text/plain": [
       "[2, 4, 'jeruk', 5, 8]"
      ]
     },
     "execution_count": 130,
     "metadata": {},
     "output_type": "execute_result"
    }
   ],
   "source": [
    "a"
   ]
  },
  {
   "cell_type": "markdown",
   "id": "eca32385",
   "metadata": {},
   "source": [
    "## TUPLES \n",
    "\n",
    "- immutable\n",
    "- ()"
   ]
  },
  {
   "cell_type": "code",
   "execution_count": 131,
   "id": "90f113c2",
   "metadata": {},
   "outputs": [],
   "source": [
    "buah_tup = ('apel', 'pisang', 'durian', 'jeruk', 'semangka', 'salak')"
   ]
  },
  {
   "cell_type": "code",
   "execution_count": 132,
   "id": "1d370b6d",
   "metadata": {},
   "outputs": [
    {
     "ename": "TypeError",
     "evalue": "'tuple' object does not support item assignment",
     "output_type": "error",
     "traceback": [
      "\u001b[1;31m---------------------------------------------------------------------------\u001b[0m",
      "\u001b[1;31mTypeError\u001b[0m                                 Traceback (most recent call last)",
      "\u001b[1;32m~\\AppData\\Local\\Temp\\ipykernel_2812\\2024813132.py\u001b[0m in \u001b[0;36m<module>\u001b[1;34m\u001b[0m\n\u001b[1;32m----> 1\u001b[1;33m \u001b[0mbuah_tup\u001b[0m\u001b[1;33m[\u001b[0m\u001b[1;36m0\u001b[0m\u001b[1;33m]\u001b[0m \u001b[1;33m=\u001b[0m \u001b[1;34m\"makanan\"\u001b[0m\u001b[1;33m\u001b[0m\u001b[1;33m\u001b[0m\u001b[0m\n\u001b[0m",
      "\u001b[1;31mTypeError\u001b[0m: 'tuple' object does not support item assignment"
     ]
    }
   ],
   "source": [
    "buah_tup[0] = \"makanan\""
   ]
  },
  {
   "cell_type": "markdown",
   "id": "f2e62a7a",
   "metadata": {},
   "source": [
    "## DICTIONARY\n",
    "\n",
    "- [] list\n",
    "- () tuples\n",
    "- {} dict\n",
    "- pairing key dan value\n",
    "- key harus unik\n",
    "- mutable\n",
    "- no indexing"
   ]
  },
  {
   "cell_type": "code",
   "execution_count": 133,
   "id": "92627e1a",
   "metadata": {},
   "outputs": [
    {
     "ename": "NameError",
     "evalue": "name 'buah_warna' is not defined",
     "output_type": "error",
     "traceback": [
      "\u001b[1;31m---------------------------------------------------------------------------\u001b[0m",
      "\u001b[1;31mNameError\u001b[0m                                 Traceback (most recent call last)",
      "\u001b[1;32m~\\AppData\\Local\\Temp\\ipykernel_2812\\1966246039.py\u001b[0m in \u001b[0;36m<module>\u001b[1;34m\u001b[0m\n\u001b[1;32m----> 1\u001b[1;33m \u001b[0mbuah_warna\u001b[0m\u001b[1;33m[\u001b[0m\u001b[1;36m0\u001b[0m\u001b[1;33m]\u001b[0m\u001b[1;33m\u001b[0m\u001b[1;33m\u001b[0m\u001b[0m\n\u001b[0m",
      "\u001b[1;31mNameError\u001b[0m: name 'buah_warna' is not defined"
     ]
    }
   ],
   "source": [
    "buah_warna[0]"
   ]
  },
  {
   "cell_type": "code",
   "execution_count": 134,
   "id": "7ec55192",
   "metadata": {},
   "outputs": [],
   "source": [
    "x = ['apel', 'pisang', 'durian', 'jeruk', 'semangka', 'salak','salak','salak','salak',    'salak', 'apel']"
   ]
  },
  {
   "cell_type": "code",
   "execution_count": 135,
   "id": "9c5ae60e",
   "metadata": {},
   "outputs": [
    {
     "data": {
      "text/plain": [
       "['apel',\n",
       " 'pisang',\n",
       " 'durian',\n",
       " 'jeruk',\n",
       " 'semangka',\n",
       " 'salak',\n",
       " 'salak',\n",
       " 'salak',\n",
       " 'salak',\n",
       " 'salak',\n",
       " 'apel']"
      ]
     },
     "execution_count": 135,
     "metadata": {},
     "output_type": "execute_result"
    }
   ],
   "source": [
    "x"
   ]
  },
  {
   "cell_type": "code",
   "execution_count": 136,
   "id": "0f4e70f7",
   "metadata": {},
   "outputs": [],
   "source": [
    "buah_warna = {\"apel\": \"merah\", \"pisang\": \"kuning\", \"durian\": \"hijau\", \"salak\": \"coklat\", 0: \"aneh\", \"darah\": \"merah\"}"
   ]
  },
  {
   "cell_type": "code",
   "execution_count": 137,
   "id": "b2a2b60b",
   "metadata": {},
   "outputs": [
    {
     "data": {
      "text/plain": [
       "{'apel': 'merah',\n",
       " 'pisang': 'kuning',\n",
       " 'durian': 'hijau',\n",
       " 'salak': 'coklat',\n",
       " 0: 'aneh',\n",
       " 'darah': 'merah'}"
      ]
     },
     "execution_count": 137,
     "metadata": {},
     "output_type": "execute_result"
    }
   ],
   "source": [
    "buah_warna"
   ]
  },
  {
   "cell_type": "code",
   "execution_count": 138,
   "id": "f10d82a6",
   "metadata": {},
   "outputs": [
    {
     "data": {
      "text/plain": [
       "'aneh'"
      ]
     },
     "execution_count": 138,
     "metadata": {},
     "output_type": "execute_result"
    }
   ],
   "source": [
    "buah_warna[0]"
   ]
  },
  {
   "cell_type": "code",
   "execution_count": 139,
   "id": "b024db9a",
   "metadata": {},
   "outputs": [
    {
     "data": {
      "text/plain": [
       "'merah'"
      ]
     },
     "execution_count": 139,
     "metadata": {},
     "output_type": "execute_result"
    }
   ],
   "source": [
    "buah_warna[\"apel\"]"
   ]
  },
  {
   "cell_type": "code",
   "execution_count": 140,
   "id": "14816e96",
   "metadata": {},
   "outputs": [],
   "source": [
    "buah_warna[0] = \"diganti\""
   ]
  },
  {
   "cell_type": "code",
   "execution_count": 141,
   "id": "e4e82567",
   "metadata": {},
   "outputs": [
    {
     "data": {
      "text/plain": [
       "{'apel': 'merah',\n",
       " 'pisang': 'kuning',\n",
       " 'durian': 'hijau',\n",
       " 'salak': 'coklat',\n",
       " 0: 'diganti',\n",
       " 'darah': 'merah'}"
      ]
     },
     "execution_count": 141,
     "metadata": {},
     "output_type": "execute_result"
    }
   ],
   "source": [
    "buah_warna"
   ]
  },
  {
   "cell_type": "code",
   "execution_count": 142,
   "id": "237365f8",
   "metadata": {},
   "outputs": [],
   "source": [
    "buah_warna[\"oli\"] = \"hitam\""
   ]
  },
  {
   "cell_type": "code",
   "execution_count": 143,
   "id": "b9b18730",
   "metadata": {},
   "outputs": [
    {
     "data": {
      "text/plain": [
       "{'apel': 'merah',\n",
       " 'pisang': 'kuning',\n",
       " 'durian': 'hijau',\n",
       " 'salak': 'coklat',\n",
       " 0: 'diganti',\n",
       " 'darah': 'merah',\n",
       " 'oli': 'hitam'}"
      ]
     },
     "execution_count": 143,
     "metadata": {},
     "output_type": "execute_result"
    }
   ],
   "source": [
    "buah_warna"
   ]
  },
  {
   "cell_type": "code",
   "execution_count": 144,
   "id": "f61d6a45",
   "metadata": {},
   "outputs": [],
   "source": [
    "biodata = {\"nama\": \"john\", \"umur\": 51, \"pasangan\": \"edna\", \"anak\": [\"ralph\", \"joe\"]}"
   ]
  },
  {
   "cell_type": "code",
   "execution_count": 145,
   "id": "89bfd8ba",
   "metadata": {},
   "outputs": [
    {
     "data": {
      "text/plain": [
       "{'nama': 'john', 'umur': 51, 'pasangan': 'edna', 'anak': ['ralph', 'joe']}"
      ]
     },
     "execution_count": 145,
     "metadata": {},
     "output_type": "execute_result"
    }
   ],
   "source": [
    "biodata"
   ]
  },
  {
   "cell_type": "code",
   "execution_count": 146,
   "id": "5ee3c896",
   "metadata": {},
   "outputs": [],
   "source": [
    "biodata_list = [\"john\", 51, \"edna\", [\"ralph\", \"joe\"]]"
   ]
  },
  {
   "cell_type": "code",
   "execution_count": 147,
   "id": "c8b926ed",
   "metadata": {},
   "outputs": [
    {
     "data": {
      "text/plain": [
       "51"
      ]
     },
     "execution_count": 147,
     "metadata": {},
     "output_type": "execute_result"
    }
   ],
   "source": [
    "biodata_list[1]"
   ]
  },
  {
   "cell_type": "code",
   "execution_count": 148,
   "id": "54b245d3",
   "metadata": {},
   "outputs": [
    {
     "data": {
      "text/plain": [
       "51"
      ]
     },
     "execution_count": 148,
     "metadata": {},
     "output_type": "execute_result"
    }
   ],
   "source": [
    "biodata[\"umur\"]"
   ]
  },
  {
   "cell_type": "code",
   "execution_count": 149,
   "id": "9e47a63f",
   "metadata": {},
   "outputs": [],
   "source": [
    "sub_list = [\n",
    "    {\"nama\": \"john\", \"umur\": 51, \"pasangan\": \"edna\", \"anak\": [\"ralph\", \"joe\"]},\n",
    "    {\"nama\": \"ben\", \"umur\": 41, \"pasangan\": \"dina\", \"anak\": [\"ralph\", \"joe\"]}\n",
    "]"
   ]
  },
  {
   "cell_type": "code",
   "execution_count": 150,
   "id": "a346ab14",
   "metadata": {},
   "outputs": [
    {
     "data": {
      "text/plain": [
       "[{'nama': 'john', 'umur': 51, 'pasangan': 'edna', 'anak': ['ralph', 'joe']},\n",
       " {'nama': 'ben', 'umur': 41, 'pasangan': 'dina', 'anak': ['ralph', 'joe']}]"
      ]
     },
     "execution_count": 150,
     "metadata": {},
     "output_type": "execute_result"
    }
   ],
   "source": [
    "sub_list"
   ]
  },
  {
   "cell_type": "code",
   "execution_count": 151,
   "id": "5fb87b78",
   "metadata": {},
   "outputs": [
    {
     "data": {
      "text/plain": [
       "[{'nama': 'john', 'umur': 51, 'pasangan': 'edna', 'anak': ['ralph', 'joe']},\n",
       " {'nama': 'ben', 'umur': 41, 'pasangan': 'dina', 'anak': ['ralph', 'joe']}]"
      ]
     },
     "execution_count": 151,
     "metadata": {},
     "output_type": "execute_result"
    }
   ],
   "source": [
    "sub_list"
   ]
  },
  {
   "cell_type": "code",
   "execution_count": 152,
   "id": "408e550e",
   "metadata": {},
   "outputs": [
    {
     "data": {
      "text/plain": [
       "41"
      ]
     },
     "execution_count": 152,
     "metadata": {},
     "output_type": "execute_result"
    }
   ],
   "source": [
    "sub_list[1][\"umur\"]"
   ]
  },
  {
   "cell_type": "code",
   "execution_count": 153,
   "id": "b4084d59",
   "metadata": {},
   "outputs": [
    {
     "data": {
      "text/plain": [
       "['apel', 45, True, ['merah', 'biru', 'hijau']]"
      ]
     },
     "execution_count": 153,
     "metadata": {},
     "output_type": "execute_result"
    }
   ],
   "source": [
    "c"
   ]
  },
  {
   "cell_type": "code",
   "execution_count": 154,
   "id": "dd56bdd6",
   "metadata": {},
   "outputs": [
    {
     "data": {
      "text/plain": [
       "['merah', 'biru', 'hijau']"
      ]
     },
     "execution_count": 154,
     "metadata": {},
     "output_type": "execute_result"
    }
   ],
   "source": [
    "c[3]"
   ]
  },
  {
   "cell_type": "code",
   "execution_count": 155,
   "id": "c35ed78c",
   "metadata": {},
   "outputs": [],
   "source": [
    "z=c[3]"
   ]
  },
  {
   "cell_type": "code",
   "execution_count": 156,
   "id": "3a87bb0d",
   "metadata": {},
   "outputs": [
    {
     "data": {
      "text/plain": [
       "['merah', 'biru', 'hijau']"
      ]
     },
     "execution_count": 156,
     "metadata": {},
     "output_type": "execute_result"
    }
   ],
   "source": [
    "z"
   ]
  },
  {
   "cell_type": "code",
   "execution_count": 157,
   "id": "cd490dc2",
   "metadata": {},
   "outputs": [
    {
     "data": {
      "text/plain": [
       "'biru'"
      ]
     },
     "execution_count": 157,
     "metadata": {},
     "output_type": "execute_result"
    }
   ],
   "source": [
    "z[1]"
   ]
  },
  {
   "cell_type": "code",
   "execution_count": 158,
   "id": "b95f6271",
   "metadata": {},
   "outputs": [
    {
     "data": {
      "text/plain": [
       "'biru'"
      ]
     },
     "execution_count": 158,
     "metadata": {},
     "output_type": "execute_result"
    }
   ],
   "source": [
    "c[3][1]"
   ]
  },
  {
   "cell_type": "code",
   "execution_count": 159,
   "id": "d8488967",
   "metadata": {},
   "outputs": [
    {
     "data": {
      "text/plain": [
       "True"
      ]
     },
     "execution_count": 159,
     "metadata": {},
     "output_type": "execute_result"
    }
   ],
   "source": [
    "z == c[3]"
   ]
  },
  {
   "cell_type": "markdown",
   "id": "607fc57f",
   "metadata": {},
   "source": [
    "## PANJANG (LINE)"
   ]
  },
  {
   "cell_type": "code",
   "execution_count": 160,
   "id": "a0c6fb6d",
   "metadata": {},
   "outputs": [
    {
     "name": "stdout",
     "output_type": "stream",
     "text": [
      "205\n"
     ]
    }
   ],
   "source": [
    "x = 5 + 10 \\\n",
    "    * 20\n",
    "print(x)"
   ]
  },
  {
   "cell_type": "code",
   "execution_count": null,
   "id": "6bd1ee1d",
   "metadata": {},
   "outputs": [],
   "source": []
  }
 ],
 "metadata": {
  "kernelspec": {
   "display_name": "Python 3 (ipykernel)",
   "language": "python",
   "name": "python3"
  },
  "language_info": {
   "codemirror_mode": {
    "name": "ipython",
    "version": 3
   },
   "file_extension": ".py",
   "mimetype": "text/x-python",
   "name": "python",
   "nbconvert_exporter": "python",
   "pygments_lexer": "ipython3",
   "version": "3.9.13"
  }
 },
 "nbformat": 4,
 "nbformat_minor": 5
}
